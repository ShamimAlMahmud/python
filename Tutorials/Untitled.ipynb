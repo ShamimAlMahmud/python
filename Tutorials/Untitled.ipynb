{
 "cells": [
  {
   "cell_type": "code",
   "execution_count": null,
   "metadata": {},
   "outputs": [],
   "source": [
    "game =[[0,0,5,[1,2,3]],\n",
    "      [0,0,1,],\n",
    "      [0,0,2,], 'SHamim', 1, 5.4]\n",
    "print(game.size)\n",
    "# print(game)\n",
    "print(game[0][3][2])\n",
    "# print(type(game[5]))\n",
    "# print(type(game))\n",
    "\n",
    "\n",
    "for shamim_al_mahmud in game:\n",
    "      print(shamim_al_mahmud)\n",
    "      print(type(shamim_al_mahmud))\n",
    "\n",
    "\n",
    "for element in game:\n",
    "      if type(element) is list:\n",
    "            print(element)\n",
    "      elif type(element) == int:\n",
    "            print(\"this is an interger type\")\n",
    "      else:\n",
    "            print(\"This is neither list or integer type\")\n",
    "      \n",
    "for i in range(-1,10):\n",
    "      print(i)\n",
    "shamim = \"Shamim is boy now\"\n",
    "print(shamim)\n",
    "\n",
    "\n",
    "\n",
    "# Dictionary\n",
    "dict2 = {\n",
    "            \"name\": \"Shamim\",\n",
    "            \"genfer,\" : \"boy\",\n",
    "            \"Uni\" : \"BAIUST\",\n",
    "            \"mobile_no\" : \"0123456\"\n",
    "       }\n",
    "print(dict2, type(dict2))\n",
    "\n",
    "print(dict2[\"name\"],dict2[\"mobile_no\"])\n",
    "\n",
    "list1 = [shamim, [1, 2, 3]]\n",
    "print(list1[0])\n",
    "\n",
    "dict1 = {\n",
    "      \"name\" : \"Shamim\"\n",
    "}\n",
    "print(dict1[\"name\"])\n",
    "print(dict2[\"name\"],dict1[\"name\"])\n",
    "\n",
    "\n",
    "print(list1)\n",
    "print(dict1)\n",
    "\n"
   ]
  },
  {
   "cell_type": "code",
   "execution_count": null,
   "metadata": {},
   "outputs": [],
   "source": [
    "game =[[0,0,5,[1,2,3]],\n",
    "      [0,0,1,],\n",
    "      [0,0,2,], 'SHamim', 1, 5.4]\n",
    "print(game.size)\n",
    "# print(game)\n",
    "print(game[0][3][2])\n",
    "# print(type(game[5]))\n",
    "# print(type(game))"
   ]
  },
  {
   "cell_type": "code",
   "execution_count": null,
   "metadata": {},
   "outputs": [],
   "source": []
  },
  {
   "cell_type": "code",
   "execution_count": null,
   "metadata": {},
   "outputs": [],
   "source": []
  }
 ],
 "metadata": {
  "kernelspec": {
   "display_name": "Python 3",
   "language": "python",
   "name": "python3"
  }
 },
 "nbformat": 4,
 "nbformat_minor": 4
}
